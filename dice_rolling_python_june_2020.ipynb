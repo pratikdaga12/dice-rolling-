{
 "cells": [
  {
   "cell_type": "markdown",
   "metadata": {},
   "source": [
    "# June 2020"
   ]
  },
  {
   "cell_type": "markdown",
   "metadata": {},
   "source": [
    "# Dice Rolling Simulator"
   ]
  },
  {
   "cell_type": "markdown",
   "metadata": {},
   "source": [
    "Liar's dice is a class of dice games for two or more players requiring the ability to deceive and detect an opponent's deception.\n",
    "\n",
    "In \"common hand\" liar's dice games, each player has a set of dice, all players roll once, and the bids relate to the dice each player can see (their hand) plus all the concealed dice (the other players' hands). In \"individual hand\" games, there is one set of dice which is passed from player to player. The bids relate to the dice as they are in front of the bidder after selected dice have been re-rolled.\n"
   ]
  },
  {
   "cell_type": "code",
   "execution_count": 11,
   "metadata": {},
   "outputs": [],
   "source": [
    "import time\n",
    "import random\n",
    "from random import randint"
   ]
  },
  {
   "cell_type": "markdown",
   "metadata": {},
   "source": [
    "# Let's define a class called Player\n",
    "\n"
   ]
  },
  {
   "cell_type": "markdown",
   "metadata": {},
   "source": [
    "1 name\n"
   ]
  },
  {
   "cell_type": "markdown",
   "metadata": {},
   "source": [
    "2 liar_flag # liar or not\n"
   ]
  },
  {
   "cell_type": "markdown",
   "metadata": {},
   "source": [
    "3 nDices # number of dices"
   ]
  },
  {
   "cell_type": "code",
   "execution_count": 12,
   "metadata": {},
   "outputs": [],
   "source": [
    "class Player:\n",
    "    def __init__(self, name, liar_flag, nDices):\n",
    "        self.name = name\n",
    "        self.liar_flag = liar_flag\n",
    "        self.nDices = nDices\n",
    "        self.list = []\n",
    "        for i in range(1, self.nDices+1):\n",
    "            self.list.append(randint(1,6))"
   ]
  },
  {
   "cell_type": "markdown",
   "metadata": {},
   "source": [
    "### Checking if the accusation is true method"
   ]
  },
  {
   "cell_type": "code",
   "execution_count": 13,
   "metadata": {},
   "outputs": [],
   "source": [
    "def check_liar(accuser, accused, number, times):\n",
    "    l = []\n",
    "    l.extend(accuser.list)\n",
    "    l.extend(accused.list) \n",
    "    occurrences = l.count(number)\n",
    "    \n",
    "    if (occurrences == times):\n",
    "        print ('%s is not lying' % accused.name)\n",
    "        print('')\n",
    "        accuser.nDices -= 1 \n",
    "    else:\n",
    "        print('%s is lying' % accused.name)\n",
    "        print('')\n",
    "        accused.nDices -= 1"
   ]
  },
  {
   "cell_type": "markdown",
   "metadata": {},
   "source": [
    "### The game should accuse us as well, arbitrary method to decide who of the other players accuse us\n",
    "\n"
   ]
  },
  {
   "cell_type": "code",
   "execution_count": 14,
   "metadata": {},
   "outputs": [],
   "source": [
    "def accuser(player1, player2):\n",
    "    i = randint(1,2)    \n",
    "    if i == 1:\n",
    "        return player1\n",
    "    else:\n",
    "        return player2"
   ]
  },
  {
   "cell_type": "markdown",
   "metadata": {},
   "source": [
    "### Initilization of parameters\n"
   ]
  },
  {
   "cell_type": "code",
   "execution_count": 15,
   "metadata": {},
   "outputs": [],
   "source": [
    "liar_flag1, liar_flag2, liar_flag3 = False, False, False   \n",
    "nDices1, nDices2, nDices3 = 5, 5, 5"
   ]
  },
  {
   "cell_type": "markdown",
   "metadata": {},
   "source": [
    "### Enter your name"
   ]
  },
  {
   "cell_type": "code",
   "execution_count": 16,
   "metadata": {},
   "outputs": [
    {
     "name": "stdout",
     "output_type": "stream",
     "text": [
      "What's your name?1\n"
     ]
    }
   ],
   "source": [
    "name = input(\"What's your name?\")  \n",
    "list1, list2, list3 = [], [], [] # list with the different dices of the players"
   ]
  },
  {
   "cell_type": "code",
   "execution_count": null,
   "metadata": {},
   "outputs": [
    {
     "name": "stdout",
     "output_type": "stream",
     "text": [
      "Your dices [6, 3, 1, 3, 4]\n",
      "Number? 3\n",
      "How many?2\n",
      "1 bets there are 2 times 3 in the table\n",
      "Paco bets there are 4 times 4 in the table\n",
      "Yago bets there are 3 times 4 in the table\n",
      "Do you think Paco is a liar?[y/n]y\n",
      "Paco is not lying\n",
      "\n",
      "Your dices [3, 6, 3, 6]\n",
      "Number? 3\n",
      "How many?2\n",
      "1 bets there are 2 times 3 in the table\n",
      "Paco bets there are 3 times 4 in the table\n",
      "Yago bets there are 4 times 5 in the table\n",
      "Do you think Paco is a liar?[y/n]y\n",
      "Paco is not lying\n",
      "\n",
      "Your dices [2, 4, 1]\n"
     ]
    }
   ],
   "source": [
    "while (nDices1 > 0 and nDices2 > 0 and nDices3 > 0):\n",
    "# We are this player Yago\n",
    "    player1 = Player(name, liar_flag1, nDices1)\n",
    "    list1 = player1.list\n",
    "    print('Your dices', player1.list)\n",
    "    \n",
    "    bet_number = int(input(\"Number? \"))\n",
    "    times = int(input(\"How many?\"))\n",
    "    print('%s bets there are %s times %s in the table'\n",
    "          % (player1.name, times, bet_number))\n",
    "\n",
    "    times2 = randint(3,5)\n",
    "    bet_number2 = randint(bet_number,6) \n",
    "    \n",
    "    player2 = Player('Paco', liar_flag2, nDices2)\n",
    "    print('%s bets there are %s times %s in the table'\n",
    "          % (player2.name, times2, bet_number2))\n",
    "    list2 = player2.list\n",
    "    \n",
    "    times3 = randint(3,5)\n",
    "    bet_number3 = randint(bet_number2,6)\n",
    "    \n",
    "    player3 = Player('Yago', liar_flag3, nDices3)\n",
    "    print('%s bets there are %s times %s in the table'\n",
    "      % (player3.name, times3, bet_number3))\n",
    "    list3 = player3.list\n",
    "    \n",
    "    liar_flag1 = bool(random.getrandbits(1))\n",
    "    if liar_flag1 == True: \n",
    "        player = accuser(player2, player3)\n",
    "        check_liar(player, player1, \n",
    "                   bet_number, times)\n",
    "        nDices1 = player1.nDices\n",
    "        nDices2 = player2.nDices\n",
    "        nDices3 = player3.nDices\n",
    "        continue\n",
    "    else:\n",
    "        liar_flag1 = False\n",
    "    \n",
    "    liar_flag2 = input(\"Do you think %s is a liar?[y/n]\" % player2.name)\n",
    "    if liar_flag2 == 'y':\n",
    "        liar_flag2 = True\n",
    "        # The first list corresponds to the one who accuse\n",
    "        # the last list corresponds to the one who recieves the charge\n",
    "        check_liar(player1, player2, \n",
    "                   bet_number2, times2)\n",
    "        nDices1 = player1.nDices\n",
    "        nDices2 = player2.nDices\n",
    "        nDices3 = player3.nDices    \n",
    "        continue\n",
    "    else:\n",
    "        liar_falg2 = False\n",
    "    \n",
    "    liar_flag3 = input(\"Do you think %s is a liar?[y/n]\" % player3.name)\n",
    "    if liar_flag3 == 'y':\n",
    "        liar_flag3 = True\n",
    "        # The first list corresponds to the one who accuse\n",
    "        # the last list corresponds to the one who recieves the charge\n",
    "        check_liar(player1, player3, \n",
    "                   bet_number3, times3)\n",
    "        nDices1 = player1.nDices\n",
    "        nDices2 = player2.nDices\n",
    "        nDices3 = player3.nDices\n",
    "        continue\n",
    "    else:\n",
    "        liar_falg3 = False\n",
    "\n",
    "    nDices1 = player1.nDices\n",
    "    nDices2 = player2.nDices\n",
    "    nDices3 = player3.nDices\n",
    "    \n",
    "    print('Your dices', list1)\n",
    "    print('Paco turn', list2)\n",
    "    print('Yago turn', list3)\n",
    "    print(' ')\n",
    "    time.sleep(2)\n",
    "    print('next turn!!!')\n",
    "    \n",
    "    \n",
    "print('Good bye!!')"
   ]
  },
  {
   "cell_type": "code",
   "execution_count": null,
   "metadata": {},
   "outputs": [],
   "source": []
  }
 ],
 "metadata": {
  "kernelspec": {
   "display_name": "Python 3",
   "language": "python",
   "name": "python3"
  },
  "language_info": {
   "codemirror_mode": {
    "name": "ipython",
    "version": 3
   },
   "file_extension": ".py",
   "mimetype": "text/x-python",
   "name": "python",
   "nbconvert_exporter": "python",
   "pygments_lexer": "ipython3",
   "version": "3.7.6"
  }
 },
 "nbformat": 4,
 "nbformat_minor": 4
}
